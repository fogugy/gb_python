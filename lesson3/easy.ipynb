{
 "cells": [
  {
   "cell_type": "code",
   "execution_count": null,
   "metadata": {
    "collapsed": true
   },
   "outputs": [],
   "source": [
    "__author__ = 'Зиновьев Ю.Г.'\n",
    "\n",
    "# Задание-1:\n",
    "# Напишите функцию, округляющую полученное произвольное десятичное число\n",
    "# до кол-ва знаков (кол-во знаков передается вторым аргументом).\n",
    "# Округление должно происходить по математическим правилам (0.6 --> 1, 0.4 --> 0).\n",
    "# Для решения задачи не используйте встроенные функции и функции из модуля math.\n",
    "\n",
    "\n",
    "def my_round(number, ndigits):\n",
    "    sliced = int(number * 10 ** (ndigits))\n",
    "    sliced += 1 if int(number * 10 ** (ndigits + 1) % 10) >= 5 else 0\n",
    "    return sliced / (10 ** ndigits)\n",
    "\n",
    "\n",
    "print(my_round(2.1234567, 5))\n",
    "print(my_round(2.1999967, 5))\n",
    "print(my_round(2.9999967, 5))\n"
   ]
  },
  {
   "cell_type": "code",
   "execution_count": null,
   "metadata": {},
   "outputs": [],
   "source": [
    "# Задание-2:\n",
    "# Дан шестизначный номер билета. Определить, является ли билет счастливым.\n",
    "# Решение реализовать в виде функции.\n",
    "# Билет считается счастливым, если сумма его первых и последних цифр равны.\n",
    "# !!!P.S.: функция не должна НИЧЕГО print'ить\n",
    "\n",
    "\n",
    "def sum_digits(number):\n",
    "    res = 0\n",
    "    while number > 0:\n",
    "        res += number % 10\n",
    "        number //= 10\n",
    "    return res\n",
    "\n",
    "\n",
    "def is_lucky_ticket(ticket_number):\n",
    "    if ticket_number < 10 * 5:\n",
    "        raise ValueError('Номер билета должен быть в пределах [100000, 999999]')\n",
    "    first_part = ticket_number // 1000\n",
    "    second_part = ticket_number % 1000\n",
    "\n",
    "    return sum_digits(first_part) == sum_digits(second_part)\n",
    "\n",
    "\n",
    "print(is_lucky_ticket(123006))\n",
    "print(is_lucky_ticket(12321))\n",
    "print(is_lucky_ticket(436751))\n"
   ]
  }
 ],
 "metadata": {
  "kernelspec": {
   "display_name": "Python 2",
   "language": "python",
   "name": "python2"
  },
  "language_info": {
   "codemirror_mode": {
    "name": "ipython",
    "version": 2
   },
   "file_extension": ".py",
   "mimetype": "text/x-python",
   "name": "python",
   "nbconvert_exporter": "python",
   "pygments_lexer": "ipython2",
   "version": "2.7.6"
  }
 },
 "nbformat": 4,
 "nbformat_minor": 0
}
