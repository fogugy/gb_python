{
 "cells": [
  {
   "cell_type": "code",
   "execution_count": 15,
   "metadata": {},
   "outputs": [
    {
     "name": "stdout",
     "output_type": "stream",
     "text": [
      "2.12346\n",
      "2.2\n",
      "3.0\n"
     ]
    }
   ],
   "source": [
    "__author__ = 'Зиновьев Ю.Г.'\n",
    "\n",
    "# Задание-1:\n",
    "# Напишите функцию, округляющую полученное произвольное десятичное число\n",
    "# до кол-ва знаков (кол-во знаков передается вторым аргументом).\n",
    "# Округление должно происходить по математическим правилам (0.6 --> 1, 0.4 --> 0).\n",
    "# Для решения задачи не используйте встроенные функции и функции из модуля math.\n",
    "\n",
    "\n",
    "def my_round(number, ndigits):\n",
    "    sliced = int(number * 10 ** (ndigits))\n",
    "    sliced += 1 if int(number * 10 ** (ndigits + 1) % 10) >= 5 else 0\n",
    "    return sliced / (10 ** ndigits)\n",
    "\n",
    "\n",
    "print(my_round(2.1234567, 5))\n",
    "print(my_round(2.1999967, 5))\n",
    "print(my_round(2.9999967, 5))\n"
   ]
  }
 ],
 "metadata": {
  "kernelspec": {
   "display_name": "Python 3",
   "language": "python",
   "name": "python3"
  },
  "language_info": {
   "codemirror_mode": {
    "name": "ipython",
    "version": 3
   },
   "file_extension": ".py",
   "mimetype": "text/x-python",
   "name": "python",
   "nbconvert_exporter": "python",
   "pygments_lexer": "ipython3",
   "version": "3.6.6"
  }
 },
 "nbformat": 4,
 "nbformat_minor": 1
}
