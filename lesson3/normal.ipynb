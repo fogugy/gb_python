{
 "cells": [
  {
   "cell_type": "code",
   "execution_count": null,
   "metadata": {
    "collapsed": true
   },
   "outputs": [],
   "source": [
    "# Задание-1:\n",
    "# Напишите функцию, возвращающую ряд Фибоначчи с n-элемента до m-элемента.\n",
    "# Первыми элементами ряда считать цифры 1 1\n",
    "\n",
    "\n",
    "def fibonacci(n, m):\n",
    "    fibo_arr = [1, 1]\n",
    "    next_index = 2\n",
    "    while next_index < m:\n",
    "        fibo_arr.append(fibo_arr[next_index - 2] + fibo_arr[next_index - 1])\n",
    "        next_index += 1\n",
    "    return fibo_arr[n:m]\n",
    "\n",
    "\n",
    "print(fibonacci(0, 10))\n",
    "print(fibonacci(11, 20))"
   ]
  }
 ],
 "metadata": {
  "kernelspec": {
   "display_name": "Python 2",
   "language": "python",
   "name": "python2"
  },
  "language_info": {
   "codemirror_mode": {
    "name": "ipython",
    "version": 2
   },
   "file_extension": ".py",
   "mimetype": "text/x-python",
   "name": "python",
   "nbconvert_exporter": "python",
   "pygments_lexer": "ipython2",
   "version": "2.7.6"
  }
 },
 "nbformat": 4,
 "nbformat_minor": 0
}
