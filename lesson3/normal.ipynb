{
 "cells": [
  {
   "cell_type": "code",
   "execution_count": null,
   "metadata": {
    "collapsed": true
   },
   "outputs": [],
   "source": [
    "# Задание-1:\n",
    "# Напишите функцию, возвращающую ряд Фибоначчи с n-элемента до m-элемента.\n",
    "# Первыми элементами ряда считать цифры 1 1\n",
    "\n",
    "\n",
    "def fibonacci(n, m):\n",
    "    fibo_arr = [1, 1]\n",
    "    next_index = 2\n",
    "    while next_index < m:\n",
    "        fibo_arr.append(fibo_arr[next_index - 2] + fibo_arr[next_index - 1])\n",
    "        next_index += 1\n",
    "    return fibo_arr[n:m]\n",
    "\n",
    "\n",
    "print(fibonacci(0, 10))\n",
    "print(fibonacci(11, 20))"
   ]
  },
  {
   "cell_type": "code",
   "execution_count": null,
   "metadata": {},
   "outputs": [],
   "source": [
    "# Задача-2:\n",
    "# Напишите функцию, сортирующую принимаемый список по возрастанию.\n",
    "# Для сортировки используйте любой алгоритм (например пузырьковый).\n",
    "# Для решения данной задачи нельзя использовать встроенную функцию и метод sort()\n",
    "\n",
    "\n",
    "def sort_to_max(array):\n",
    "    \"\"\"\n",
    "    Quick sort\n",
    "    \"\"\"\n",
    "    less_pivot = []\n",
    "    equal_pivot = []\n",
    "    greater_pivot = []\n",
    "    arr_len = len(array)\n",
    "    \n",
    "    if arr_len > 1:\n",
    "        pivot = array[arr_len // 2]\n",
    "        for x in array:\n",
    "            if x < pivot:\n",
    "                less_pivot.append(x)\n",
    "            if x == pivot:\n",
    "                equal_pivot.append(x)\n",
    "            if x > pivot:\n",
    "                greater_pivot.append(x)\n",
    "        return sort_to_max(less_pivot) + equal_pivot + sort_to_max(greater_pivot)\n",
    "    else:\n",
    "        return array\n",
    "\n",
    "\n",
    "print(sort_to_max([2, 10, -12, 2.5, 20, -11, 4, 4, 0]))\n"
   ]
  },
  {
   "cell_type": "code",
   "execution_count": null,
   "metadata": {},
   "outputs": [],
   "source": [
    "# Задача-3:\n",
    "# Напишите собственную реализацию стандартной функции filter.\n",
    "# Разумеется, внутри нельзя использовать саму функцию filter.\n",
    "\n",
    "\n",
    "def my_filter(array, predicate):\n",
    "    new_arr = []\n",
    "    for x in array:\n",
    "        if predicate(x):\n",
    "            new_arr.append(x)\n",
    "    return new_arr\n",
    "\n",
    "\n",
    "my_filter([1, 2, 3, 4, 5, 6], lambda x: x % 2 == 0)\n"
   ]
  }
 ],
 "metadata": {
  "kernelspec": {
   "display_name": "Python 2",
   "language": "python",
   "name": "python2"
  },
  "language_info": {
   "codemirror_mode": {
    "name": "ipython",
    "version": 2
   },
   "file_extension": ".py",
   "mimetype": "text/x-python",
   "name": "python",
   "nbconvert_exporter": "python",
   "pygments_lexer": "ipython2",
   "version": "2.7.6"
  }
 },
 "nbformat": 4,
 "nbformat_minor": 0
}
