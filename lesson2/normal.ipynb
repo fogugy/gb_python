{
 "cells": [
  {
   "cell_type": "code",
   "execution_count": null,
   "metadata": {
    "collapsed": true
   },
   "outputs": [],
   "source": [
    "__author__ = 'Зиновьев Ю.Г.'\n",
    "\n",
    "# Задача-1:\n",
    "# Дан список, заполненный произвольными целыми числами, получите новый список,\n",
    "# элементами которого будут квадратные корни элементов исходного списка,\n",
    "# но только если результаты извлечения корня не имеют десятичной части и\n",
    "# если такой корень вообще можно извлечь\n",
    "# Пример: Дано: [2, -5, 8, 9, -25, 25, 4]   Результат: [3, 5, 2]\n",
    "\n",
    "import math\n",
    "import random\n",
    "\n",
    "def get_rnd_int_list(length=10, min=0, max=100):\n",
    "    return [random.randint(min, max) for _ in range(length)]\n",
    "\n",
    "list1 = get_rnd_int_list(100, -100, 100)\n",
    "list2 = []\n",
    "\n",
    "for x in list1:\n",
    "    if x < 0:\n",
    "        continue\n",
    "    sqrt = math.sqrt(x)\n",
    "    if sqrt.is_integer():\n",
    "        list2.append(int(sqrt))\n",
    "print('input list:', list1, sep='\\n')\n",
    "print('result list:', list2, sep='\\n')\n"
   ]
  }
 ],
 "metadata": {
  "kernelspec": {
   "display_name": "Python 2",
   "language": "python",
   "name": "python2"
  },
  "language_info": {
   "codemirror_mode": {
    "name": "ipython",
    "version": 2
   },
   "file_extension": ".py",
   "mimetype": "text/x-python",
   "name": "python",
   "nbconvert_exporter": "python",
   "pygments_lexer": "ipython2",
   "version": "2.7.6"
  }
 },
 "nbformat": 4,
 "nbformat_minor": 0
}
