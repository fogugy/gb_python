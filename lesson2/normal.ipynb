{
 "cells": [
  {
   "cell_type": "code",
   "execution_count": null,
   "metadata": {
    "collapsed": true
   },
   "outputs": [],
   "source": [
    "__author__ = 'Зиновьев Ю.Г.'\n",
    "\n",
    "# Задача-1:\n",
    "# Дан список, заполненный произвольными целыми числами, получите новый список,\n",
    "# элементами которого будут квадратные корни элементов исходного списка,\n",
    "# но только если результаты извлечения корня не имеют десятичной части и\n",
    "# если такой корень вообще можно извлечь\n",
    "# Пример: Дано: [2, -5, 8, 9, -25, 25, 4]   Результат: [3, 5, 2]\n",
    "\n",
    "import math\n",
    "import random\n",
    "\n",
    "def get_rnd_int_list(length=10, min=0, max=100):\n",
    "    return [random.randint(min, max) for _ in range(length)]\n",
    "\n",
    "list1 = get_rnd_int_list(100, -100, 100)\n",
    "list2 = []\n",
    "\n",
    "for x in list1:\n",
    "    if x < 0:\n",
    "        continue\n",
    "    sqrt = math.sqrt(x)\n",
    "    if sqrt.is_integer():\n",
    "        list2.append(int(sqrt))\n",
    "print('input list:', list1, sep='\\n')\n",
    "print('result list:', list2, sep='\\n')\n"
   ]
  },
  {
   "cell_type": "code",
   "execution_count": null,
   "metadata": {},
   "outputs": [],
   "source": [
    "# Задача-2: Дана дата в формате dd.mm.yyyy, например: 02.11.2013.\n",
    "# Ваша задача вывести дату в текстовом виде, например: второе ноября 2013 года.\n",
    "# Склонением пренебречь (2000 года, 2010 года)\n",
    "\n",
    "input_str = input('Введите валидную дату в формате DD.MM.YYYY: \\n')\n",
    "day, month, year = map(int, input_str.split('.'))\n",
    "\n",
    "days = ['', 'первое', 'второе', 'третье', 'червертое', 'пятое', 'шестое', 'седьмое', 'восьмое', 'девятое']\n",
    "days_deci_1 = ['десятое', 'одиннадцатое', 'двенадцатое', 'тринадцатое', 'четырнадцатое', 'пятнадцатое', 'шестнадцатое',\n",
    "               'семнадцатое', 'восемнадцатое', 'дявятнадцатое']\n",
    "days_deci_2 = ['', 'двадцать', 'тридцать']\n",
    "days_decis = {10: 'десятое', 20: 'двадцатое', 30: 'тридцатое'}\n",
    "months = ['', 'января', 'февраля', 'марта', 'апреля', 'мая', 'июня', 'июля', 'августа', 'сентября', 'октября', 'ноября',\n",
    "          'декабря']\n",
    "\n",
    "def get_day_str(day_nmb):\n",
    "    if day_nmb in days_decis:\n",
    "        return days_decis[day_nmb]\n",
    "    if day_nmb < 10:\n",
    "        return days[day_nmb]\n",
    "    if day_nmb < 20:\n",
    "        return days_deci_1[day_nmb - 10]\n",
    "    day_nmbrs = list(str(day_nmb))\n",
    "    return f'{days_deci_2[int(day_nmbrs[0])-1]} {days[int(day_nmbrs[1])]}'\n",
    "\n",
    "# проверка метода get_day_str\n",
    "# for x in range(1, 32):\n",
    "#     print(x, get_day_str(x))\n",
    "\n",
    "print(get_day_str(day), months[month], year, 'года', sep=' ')\n"
   ]
  },
  {
   "cell_type": "code",
   "execution_count": null,
   "metadata": {},
   "outputs": [],
   "source": [
    "# Задача-3: Напишите алгоритм, заполняющий список произвольными целыми числами\n",
    "# в диапазоне от -100 до 100. В списке должно быть n - элементов.\n",
    "# Подсказка:\n",
    "# для получения случайного числа используйте функцию randint() модуля random\n",
    "\n",
    "import random\n",
    "\n",
    "def get_rnd_int_list(length=10, min=-100, max=100):\n",
    "    return [random.randint(min, max) for _ in range(length)]\n",
    "\n",
    "\n",
    "n = input('Введите число элементов массива для заполнения: ')\n",
    "print(get_rnd_int_list(int(n)))"
   ]
  }
 ],
 "metadata": {
  "kernelspec": {
   "display_name": "Python 2",
   "language": "python",
   "name": "python2"
  },
  "language_info": {
   "codemirror_mode": {
    "name": "ipython",
    "version": 2
   },
   "file_extension": ".py",
   "mimetype": "text/x-python",
   "name": "python",
   "nbconvert_exporter": "python",
   "pygments_lexer": "ipython2",
   "version": "2.7.6"
  }
 },
 "nbformat": 4,
 "nbformat_minor": 0
}
