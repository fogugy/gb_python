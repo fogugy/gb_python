{
 "cells": [
  {
   "cell_type": "code",
   "execution_count": null,
   "metadata": {
    "collapsed": true
   },
   "outputs": [],
   "source": [
    "__author__ = 'Зиновьев Ю.Г.'\n",
    "\n",
    "# Задача-1:\n",
    "# Дан список фруктов.\n",
    "# Напишите программу, выводящую фрукты в виде нумерованного списка,\n",
    "# выровненного по правой стороне.\n",
    "\n",
    "arr = [\"яблоко\", \"банан\", \"киви\", \"арбуз\"]\n",
    "max_length = max(map(lambda x: len(x), arr))\n",
    "frm_str = '{:>' + f'{max_length}' + '}'\n",
    "\n",
    "for x in arr:\n",
    "    print(frm_str.format(x))\n"
   ]
  },
  {
   "cell_type": "code",
   "execution_count": null,
   "metadata": {},
   "outputs": [],
   "source": [
    "# Задача-2:\n",
    "# Даны два произвольные списка.\n",
    "# Удалите из первого списка элементы, присутствующие во втором списке.\n",
    "\n",
    "import random\n",
    "\n",
    "def get_rnd_int_list(length=10, min=0, max=100):\n",
    "    return [random.randint(min, max) for x in range(length)]\n",
    "\n",
    "\n",
    "list1 = get_rnd_int_list()\n",
    "list2 = get_rnd_int_list()\n",
    "s1 = set(list1)\n",
    "s2 = set(list2)\n",
    "res = list(s1 - s2)\n",
    "intersection = list(s1.intersection(s2))\n",
    "list1.sort()\n",
    "list2.sort()\n",
    "res.sort()\n",
    "print(list1, 'exclude', list2, 'is', res, sep='\\n')\n",
    "print(intersection, 'have been removed')\n"
   ]
  }
 ],
 "metadata": {
  "kernelspec": {
   "display_name": "Python 2",
   "language": "python",
   "name": "python2"
  },
  "language_info": {
   "codemirror_mode": {
    "name": "ipython",
    "version": 2
   },
   "file_extension": ".py",
   "mimetype": "text/x-python",
   "name": "python",
   "nbconvert_exporter": "python",
   "pygments_lexer": "ipython2",
   "version": "2.7.6"
  }
 },
 "nbformat": 4,
 "nbformat_minor": 0
}
