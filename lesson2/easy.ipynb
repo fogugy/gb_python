{
 "cells": [
  {
   "cell_type": "code",
   "execution_count": null,
   "metadata": {
    "collapsed": true
   },
   "outputs": [],
   "source": [
    "__author__ = 'Зиновьев Ю.Г.'\n",
    "\n",
    "# Задача-1:\n",
    "# Дан список фруктов.\n",
    "# Напишите программу, выводящую фрукты в виде нумерованного списка,\n",
    "# выровненного по правой стороне.\n",
    "\n",
    "arr = [\"яблоко\", \"банан\", \"киви\", \"арбуз\"]\n",
    "max_length = max(map(lambda x: len(x), arr))\n",
    "frm_str = '{:>' + f'{max_length}' + '}'\n",
    "\n",
    "for x in arr:\n",
    "    print(frm_str.format(x))\n"
   ]
  },
  {
   "cell_type": "code",
   "execution_count": null,
   "metadata": {},
   "outputs": [],
   "source": [
    "# Задача-2:\n",
    "# Даны два произвольные списка.\n",
    "# Удалите из первого списка элементы, присутствующие во втором списке.\n"
   ]
  }
 ],
 "metadata": {
  "kernelspec": {
   "display_name": "Python 2",
   "language": "python",
   "name": "python2"
  },
  "language_info": {
   "codemirror_mode": {
    "name": "ipython",
    "version": 2
   },
   "file_extension": ".py",
   "mimetype": "text/x-python",
   "name": "python",
   "nbconvert_exporter": "python",
   "pygments_lexer": "ipython2",
   "version": "2.7.6"
  }
 },
 "nbformat": 4,
 "nbformat_minor": 0
}
