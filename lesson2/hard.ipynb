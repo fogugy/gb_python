{
 "cells": [
  {
   "cell_type": "code",
   "execution_count": null,
   "metadata": {
    "collapsed": true
   },
   "outputs": [],
   "source": [
    "__author__ = 'Зиновьев Ю.Г.'\n",
    "\n",
    "# Задание-1: уравнение прямой вида y = kx + b задано в виде строки.\n",
    "# Определить координату y точки с заданной координатой x.\n",
    "\n",
    "import re\n",
    "\n",
    "default_func = 'y = k*x + b'\n",
    "func = input(f'Введите уравнение функции (по умолчанию будет использовано \\'{default_func}\\') \\n')\n",
    "if len(func) == 0:\n",
    "    func = default_func\n",
    "print(func)\n",
    "\n",
    "values = input('введите коэфициэнты и значение \\'x\\' строкой вида \\'x=3 b=4 k=1\\'\\n').split()\n",
    "for key_val_pair in values:\n",
    "    key, val = key_val_pair.split('=')\n",
    "    exec(f'{key}={float(val)}')\n",
    "    \n",
    "m = re.search(r'[\\w\\d+\\-*/ ]+$', func)\n",
    "func_parsed = m.group(0)\n",
    "print(f'y = {eval(func_parsed)}')\n",
    "print(\"Можно еще чуть заморочиться и рассавить знак '*', если успею - сделаю :)\")"
   ]
  }
 ],
 "metadata": {
  "kernelspec": {
   "display_name": "Python 2",
   "language": "python",
   "name": "python2"
  },
  "language_info": {
   "codemirror_mode": {
    "name": "ipython",
    "version": 2
   },
   "file_extension": ".py",
   "mimetype": "text/x-python",
   "name": "python",
   "nbconvert_exporter": "python",
   "pygments_lexer": "ipython2",
   "version": "2.7.6"
  }
 },
 "nbformat": 4,
 "nbformat_minor": 0
}
