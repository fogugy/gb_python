{
 "cells": [
  {
   "cell_type": "code",
   "execution_count": null,
   "metadata": {},
   "outputs": [],
   "source": [
    "__author__ = 'Зиновьев Ю.Г.'\n",
    "\n",
    "# Задание-1:\n",
    "# Ваня набрал несколько операций в интерпретаторе и получал результаты:\n",
    "# \tКод: a == a**2\n",
    "# \tРезультат: True\n",
    "# \tКод: a == a*2\n",
    "# \tРезультат: True\n",
    "# \tКод: a > 999999\n",
    "# \tРезультат: True\n",
    "\n",
    "# Вопрос: Чему была равна переменная a,\n",
    "# если точно известно, что её значение не изменялось?\n",
    "\n",
    "# Подсказка: это значение точно есть ;)\n",
    "\n",
    "import math\n",
    "\n",
    "a = math.inf\n",
    "\n",
    "print(f'a == a**2 is {a == a**2}')\n",
    "print(f'a == a*2 is {a == a*2}')\n",
    "print(f'a == a*2 is {a > 999999}')"
   ]
  }
 ],
 "metadata": {
  "kernelspec": {
   "display_name": "Python 3",
   "language": "python",
   "name": "python3"
  },
  "language_info": {
   "codemirror_mode": {
    "name": "ipython",
    "version": 3
   },
   "file_extension": ".py",
   "mimetype": "text/x-python",
   "name": "python",
   "nbconvert_exporter": "python",
   "pygments_lexer": "ipython3",
   "version": "3.6.5"
  }
 },
 "nbformat": 4,
 "nbformat_minor": 2
}
