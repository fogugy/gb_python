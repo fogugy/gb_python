{
 "cells": [
  {
   "cell_type": "code",
   "execution_count": null,
   "metadata": {
    "collapsed": true
   },
   "outputs": [],
   "source": [
    "__author__ = 'Зиновьев Ю.Г.'\n",
    "\n",
    "# Задача-1: Дано произвольное целое число, вывести самую большую цифру этого числа.\n",
    "# Например, дается x = 58375.\n",
    "# Нужно вывести максимальную цифру в данном числе, т.е. 8.\n",
    "# Подразумевается, что мы не знаем это число заранее.\n",
    "# Число приходит в виде целого беззнакового.\n",
    "# Подсказки:\n",
    "# * постарайтесь решить задачу с применением арифметики и цикла while;\n",
    "# * при желании и понимании решите задачу с применением цикла for.\n",
    "\n",
    "inputStr = input(\"Введите целое число: \")\n",
    "maxInt = 0\n",
    "for i in range(len(inputStr)):\n",
    "    maxInt = max(maxInt, int(inputStr[i]))\n",
    "print(f'С применением for: max = {maxInt}')\n",
    "\n",
    "maxInt = 0\n",
    "inputInt = int(inputStr)\n",
    "while inputInt > 0:\n",
    "    maxInt = max(maxInt, inputInt % 10)\n",
    "    inputInt //= 10\n",
    "print(f'С применением while: max = {maxInt}')"
   ]
  },
  {
   "cell_type": "code",
   "execution_count": null,
   "metadata": {},
   "outputs": [],
   "source": [
    "# Задача-2: Исходные значения двух переменных запросить у пользователя.\n",
    "# Поменять значения переменных местами. Вывести новые значения на экран.\n",
    "# Решите задачу, используя только две переменные.\n",
    "# Подсказки:\n",
    "# * постарайтесь сделать решение через действия над числами;\n",
    "# * при желании и понимании воспользуйтесь синтаксисом кортежей Python.\n",
    "\n",
    "inputStr = input(\"Введите 2 числа через пробел: \")\n",
    "a, b = map(float, inputStr.split())\n",
    "print(f'Входные значения: a={a}, b={b}')\n",
    "a = a + b\n",
    "b = a - b\n",
    "a = a - b\n",
    "print(f'Выходные значения: a={a}, b={b}')\n"
   ]
  },
  {
   "cell_type": "code",
   "execution_count": null,
   "metadata": {},
   "outputs": [],
   "source": [
    "# Задача-3: Напишите программу, вычисляющую корни квадратного уравнения вида\n",
    "# ax² + bx + c = 0.\n",
    "# Коэффициенты уравнения вводятся пользователем.\n",
    "# Для вычисления квадратного корня воспользуйтесь функцией sqrt() модуля math:\n",
    "# import math\n",
    "# math.sqrt(4) - вычисляет корень числа 4\n",
    "\n",
    "import math\n",
    "\n",
    "inputStr = input(\"Введите коэфициэнты квадратного уравнения через пробел: \")\n",
    "a, b, c = map(float, inputStr.split())\n",
    "\n",
    "sign = lambda x: '+' if x >= 0 else '-'  # получение знака числа\n",
    "\n",
    "def getRoot(a, b, c, x=1):\n",
    "    return (-b + x * math.sqrt(b ** 2 - 4 * a * c)) / (2 * a)\n",
    "discriminant = b ** 2 - 4 * a * c\n",
    "\n",
    "print(f'{a}*x**2 {sign(b)} {math.fabs(b)}*x {sign(c)} {math.fabs(c)} = 0')\n",
    "\n",
    "if discriminant > 0:\n",
    "    print(f'x1 = {getRoot(a,b,c,1)}, x2 = {getRoot(a,b,c,-1)}')\n",
    "elif discriminant == 0:\n",
    "    print(f'x = {getRoot(a,b,c,1)}')\n",
    "else:\n",
    "    print('Нет корней')\n"
   ]
  }
 ],
 "metadata": {
  "kernelspec": {
   "display_name": "Python 2",
   "language": "python",
   "name": "python2"
  },
  "language_info": {
   "codemirror_mode": {
    "name": "ipython",
    "version": 2
   },
   "file_extension": ".py",
   "mimetype": "text/x-python",
   "name": "python",
   "nbconvert_exporter": "python",
   "pygments_lexer": "ipython2",
   "version": "2.7.6"
  }
 },
 "nbformat": 4,
 "nbformat_minor": 0
}
