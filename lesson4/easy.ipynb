{
 "cells": [
  {
   "cell_type": "code",
   "execution_count": null,
   "metadata": {
    "collapsed": true
   },
   "outputs": [],
   "source": [
    "__author__ = 'Зиновьев Ю.Г.'\n",
    "\n",
    "# Все задачи текущего блока решите с помощью генераторов списков!\n",
    "\n",
    "# Задание-1:\n",
    "# Дан список, заполненный произвольными целыми числами. \n",
    "# Получить новый список, элементы которого будут\n",
    "# квадратами элементов исходного списка\n",
    "# [1, 2, 4, 0] --> [1, 4, 16, 0]\n",
    "\n",
    "import random as rnd\n",
    "\n",
    "list_input = [rnd.randint(0, 100) for i in range(10)]\n",
    "list_powered = [x ** 2 for x in list_input]\n",
    "\n",
    "print(list_input, '=>', list_powered, sep='\\n')"
   ]
  },
  {
   "cell_type": "code",
   "execution_count": null,
   "metadata": {},
   "outputs": [],
   "source": [
    "# Задание-2:\n",
    "# Даны два списка фруктов.\n",
    "# Получить список фруктов, присутствующих в обоих исходных списках.\n",
    "\n",
    "list_1 = ['apple', 'pineapple', 'pear']\n",
    "list_2 = ['pear', 'pineapple', 'watermelon']\n",
    "\n",
    "intersected = [x for x in list_2 if x in list_1]\n",
    "print(intersected)\n"
   ]
  },
  {
   "cell_type": "code",
   "execution_count": null,
   "metadata": {},
   "outputs": [],
   "source": [
    "# Задание-3:\n",
    "# Дан список, заполненный произвольными числами.\n",
    "# Получить список из элементов исходного, удовлетворяющих следующим условиям:\n",
    "# + Элемент кратен 3\n",
    "# + Элемент положительный\n",
    "# + Элемент не кратен 4\n",
    "\n",
    "import random as rnd\n",
    "\n",
    "f = lambda x: x % 3 == 0 and x > 0 and x % 4 != 0\n",
    "list_input = [rnd.randint(0, 100) for i in range(30)]\n",
    "list_filtered = [x for x in list_input if f(x)]\n",
    "\n",
    "print(list_filtered)\n"
   ]
  }
 ],
 "metadata": {
  "kernelspec": {
   "display_name": "Python 2",
   "language": "python",
   "name": "python2"
  },
  "language_info": {
   "codemirror_mode": {
    "name": "ipython",
    "version": 2
   },
   "file_extension": ".py",
   "mimetype": "text/x-python",
   "name": "python",
   "nbconvert_exporter": "python",
   "pygments_lexer": "ipython2",
   "version": "2.7.6"
  }
 },
 "nbformat": 4,
 "nbformat_minor": 0
}
