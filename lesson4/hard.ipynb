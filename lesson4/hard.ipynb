{
 "cells": [
  {
   "cell_type": "code",
   "execution_count": 2,
   "metadata": {
    "collapsed": true
   },
   "outputs": [
    {
     "data": {
      "text/plain": [
       "[[1, 3, 0], [0, 4, 4], [8, 1, 2]]"
      ]
     },
     "execution_count": 2,
     "metadata": {},
     "output_type": "execute_result"
    }
   ],
   "source": [
    "# Задание-1:\n",
    "# Матрицы в питоне реализуются в виде вложенных списков:\n",
    "# Пример. Дано:\n",
    "matrix = [[1, 0, 8],\n",
    "          [3, 4, 1],\n",
    "          [0, 4, 2]]\n",
    "          \n",
    "# Выполнить поворот (транспонирование) матрицы\n",
    "# Пример. Результат:\n",
    "# matrix_rotate = [[1, 3, 0],\n",
    "#                  [0, 4, 4],\n",
    "#                  [8, 1, 2]]\n",
    "\n",
    "[list(i) for i in zip(*matrix)]"
   ]
  },
  {
   "cell_type": "code",
   "execution_count": 57,
   "metadata": {
    "collapsed": true
   },
   "outputs": [
    {
     "name": "stdout",
     "output_type": "stream",
     "text": [
      "Максимальное произведение: 40824\n\tполучено из числа: '99879'\n\tна позиции: 364\n"
     ]
    }
   ],
   "source": [
    "# Задание-2:\n",
    "# Найдите наибольшее произведение пяти последовательных цифр в 1000-значном числе.\n",
    "# Выведите произведение и индекс смещения первого числа последовательных 5-ти цифр.\n",
    "# Пример 1000-значного числа:\n",
    "\n",
    "import re\n",
    "\n",
    "number = \"\"\"\n",
    "73167176531330624919225119674426574742355349194934\n",
    "96983520312774506326239578318016984801869478851843\n",
    "85861560789112949495459501737958331952853208805511\n",
    "12540698747158523863050715693290963295227443043557\n",
    "66896648950445244523161731856403098711121722383113\n",
    "62229893423380308135336276614282806444486645238749\n",
    "30358907296290491560440772390713810515859307960866\n",
    "70172427121883998797908792274921901699720888093776\n",
    "65727333001053367881220235421809751254540594752243\n",
    "52584907711670556013604839586446706324415722155397\n",
    "53697817977846174064955149290862569321978468622482\n",
    "83972241375657056057490261407972968652414535100474\n",
    "82166370484403199890008895243450658541227588666881\n",
    "16427171479924442928230863465674813919123162824586\n",
    "17866458359124566529476545682848912883142607690042\n",
    "24219022671055626321111109370544217506941658960408\n",
    "07198403850962455444362981230987879927244284909188\n",
    "84580156166097919133875499200524063689912560717606\n",
    "05886116467109405077541002256983155200055935729725\n",
    "71636269561882670428252483600823257530420752963450\"\"\"\n",
    "\n",
    "def mult_digits(number_str):\n",
    "    number = int(number_str)\n",
    "    res = 1\n",
    "    while number > 0:\n",
    "        res *= number % 10\n",
    "        number //= 10\n",
    "    return res\n",
    "\n",
    "def get_max_mult(str_input):\n",
    "    str_numbers = str_input.replace('\\n', '')\n",
    "    pattern = re.compile('(?=(\\d{5}))')\n",
    "    numbers = [(x[0], x[1], mult_digits(x[1])) for x in enumerate(pattern.findall(str_numbers))]\n",
    "    max_v = max(numbers, key=lambda x: x[2])\n",
    "    return max_v\n",
    "\n",
    "print('Максимальное произведение: {2}\\n\\tполучено из числа: \\'{1}\\'\\n\\tна позиции: {0}'.format(*get_max_mult(number)))"
   ]
  },
  {
   "cell_type": "code",
   "execution_count": 144,
   "metadata": {},
   "outputs": [
    {
     "name": "stdout",
     "output_type": "stream",
     "text": [
      "[0]\n[1, 1]\n[2, 2, 2]\n[3, 3, 3, 3]\n[4, 4, 4]\n[5, 5]\n[6]\n"
     ]
    },
    {
     "data": {
      "image/png": "[encoded data removed]",
      "text/plain": [
       "<Figure size 288x288 with 1 Axes>"
      ]
     },
     "metadata": {},
     "output_type": "display_data"
    }
   ],
   "source": [
    "# Задание-3 (Ферзи):\n",
    "# Известно, что на доске 8×8 можно расставить 8 ферзей так, чтобы они не били\n",
    "# друг друга. Вам дана расстановка 8 ферзей на доске.\n",
    "# Определите, есть ли среди них пара бьющих друг друга.\n",
    "# Программа получает на вход восемь пар чисел,\n",
    "# каждое число от 1 до 8 — координаты 8 ферзей.\n",
    "# Если ферзи не бьют друг друга, выведите слово NO, иначе выведите YES.\n",
    "\n",
    "import matplotlib.pyplot as plt\n",
    "import numpy as np\n",
    "% matplotlib inline\n",
    "\n",
    "def get_mtrx(queens_pos_list, desc_len=8):\n",
    "    mtrx = [[0 for x in range(desc_len)] for y in range(desc_len)]\n",
    "    for q_pos in queens_pos_list:\n",
    "        mtrx[q_pos[0] - 1][q_pos[1] - 1] += 1\n",
    "    return mtrx\n",
    "\n",
    "def are_queens_free_from_war(queens_pos_list, desc_len=8):\n",
    "    mtrx = get_mtrx(queens_pos_list, desc_len)\n",
    "    mtrx_len = len(mtrx)\n",
    "    y_sum_arr = [sum(x) for x in mtrx]\n",
    "    x_sum_arr = [sum([row[i] for row in mtrx]) for i in range(mtrx_len)]\n",
    "    diag_135 = []\n",
    "    for diag_number in range(mtrx_len * 2 - 1):\n",
    "        diag_sub = []\n",
    "        x = 0\n",
    "        y = 0\n",
    "        for point in range((diag_number + 1) if diag_number < mtrx_len else 2 * mtrx_len - diag_number - 1):\n",
    "            \n",
    "            diag_sub.append(diag_number)\n",
    "        diag_135.append(diag_sub)\n",
    "    print(*diag_135, sep='\\n')\n",
    "    # if max(y_sum_arr) > 1 or max(x_sum_arr):\n",
    "    #     return False\n",
    "    pass\n",
    "\n",
    "\n",
    "queens_pos_list = [(1, 1), (3, 4)]\n",
    "are_queens_free_from_war(queens_pos_list, 4)\n",
    "\n",
    "plt.matshow(get_mtrx(queens_pos_list, 4))\n",
    "plt.show()\n"
   ]
  }
 ],
 "metadata": {
  "kernelspec": {
   "display_name": "Python 2",
   "language": "python",
   "name": "python2"
  },
  "language_info": {
   "codemirror_mode": {
    "name": "ipython",
    "version": 2
   },
   "file_extension": ".py",
   "mimetype": "text/x-python",
   "name": "python",
   "nbconvert_exporter": "python",
   "pygments_lexer": "ipython2",
   "version": "2.7.6"
  }
 },
 "nbformat": 4,
 "nbformat_minor": 0
}
