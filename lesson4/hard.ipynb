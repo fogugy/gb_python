{
 "cells": [
  {
   "cell_type": "code",
   "execution_count": 2,
   "metadata": {
    "collapsed": true
   },
   "outputs": [
    {
     "data": {
      "text/plain": [
       "[[1, 3, 0], [0, 4, 4], [8, 1, 2]]"
      ]
     },
     "execution_count": 2,
     "metadata": {},
     "output_type": "execute_result"
    }
   ],
   "source": [
    "# Задание-1:\n",
    "# Матрицы в питоне реализуются в виде вложенных списков:\n",
    "# Пример. Дано:\n",
    "matrix = [[1, 0, 8],\n",
    "          [3, 4, 1],\n",
    "          [0, 4, 2]]\n",
    "          \n",
    "# Выполнить поворот (транспонирование) матрицы\n",
    "# Пример. Результат:\n",
    "# matrix_rotate = [[1, 3, 0],\n",
    "#                  [0, 4, 4],\n",
    "#                  [8, 1, 2]]\n",
    "\n",
    "[list(i) for i in zip(*matrix)]"
   ]
  }
 ],
 "metadata": {
  "kernelspec": {
   "display_name": "Python 2",
   "language": "python",
   "name": "python2"
  },
  "language_info": {
   "codemirror_mode": {
    "name": "ipython",
    "version": 2
   },
   "file_extension": ".py",
   "mimetype": "text/x-python",
   "name": "python",
   "nbconvert_exporter": "python",
   "pygments_lexer": "ipython2",
   "version": "2.7.6"
  }
 },
 "nbformat": 4,
 "nbformat_minor": 0
}
