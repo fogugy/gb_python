{
 "cells": [
  {
   "cell_type": "code",
   "execution_count": null,
   "metadata": {
    "collapsed": true
   },
   "outputs": [],
   "source": [
    "__author__ = 'Зиновьев Ю.Г.'\n",
    "\n",
    "# Задание-1:\n",
    "# Вывести символы в нижнем регистре, которые находятся вокруг\n",
    "# 1 или более символов в верхнем регистре.\n",
    "# Т.е. из строки \"mtMmEZUOmcq\" нужно получить ['mt', 'm', 'mcq']\n",
    "# Решить задачу двумя способами: с помощью re и без.\n",
    "\n",
    "import re\n",
    "\n",
    "def get_pos(str, pattern):\n",
    "    rgx = re.compile(pattern)\n",
    "    m = rgx.search(str)\n",
    "    if not m:\n",
    "        return -1\n",
    "    return m.start(0), m.end(0), m.string[m.start(0):m.end(0)]\n",
    "\n",
    "def with_re(str):\n",
    "    pattern = '(([a-z]+)[A-Z]+[a-z]+)'\n",
    "    rgx = re.compile(pattern)\n",
    "    pos = 0\n",
    "    result = []\n",
    "    while len(str) - 3 > pos + 1:\n",
    "        m = rgx.search(str, pos)\n",
    "        if not m:\n",
    "            break\n",
    "        start = m.start(0)\n",
    "        end = m.end(0)\n",
    "        match_str = m.string[start:end]\n",
    "        first_pos, first_end, first_match = get_pos(match_str, '^[a-z]+')\n",
    "        last_start, last_end, last_match = get_pos(match_str, '[a-z]+$')\n",
    "        pos = end - len(last_match)\n",
    "        if len(result) > 0:\n",
    "            result.pop()\n",
    "        result.append(first_match)\n",
    "        result.append(last_match)\n",
    "    return result\n",
    "\n",
    "def with_re_if_no_other_symbols(str):\n",
    "    if re.match('[A-Za-z]', str):\n",
    "        return re.findall('[a-z]', str)\n",
    "    return []\n",
    "\n",
    "test_line = 'mtMmEZUOmcq'\n",
    "line = 'mtMmEZUOmcqWiryMQhhTxqKdSTKCYEJlEZCsGAMkgAYEOmHBSQsSUHKvSfbmxULaysmNO' \\\n",
    "       'GIPHpEMujalpPLNzRWXfwHQqwksrFeipEUlTLeclMwAoktKlfUBJHPsnawvjPhfgewVzK' \\\n",
    "       'TUfSYtBydXaVIpxWjNKgXANvIoumesCSSvjEGRJosUfuhRRDUuTQwLlJJJDdkVjfSAHqn' \\\n",
    "       'LxooisBDWuxIhyjJaXDYwdoVPnsllMngNlmkpYOlqXEFIxPqqqgAWdJsOvqppOfyIVjXa' \\\n",
    "       'pzGOrfinzzsNMtBIOclwbfRzytmDgEFUzxvZGkdOaQYLVBfsGSAfJMchgBWAsGnBnWete' \\\n",
    "       'kUTVuPluKRMQsdelzBgLzuwiimqkFKpyQRzOUyHkXRkdyIEBvTjdByCfkVIAQaAbfCvzQ' \\\n",
    "       'WrMMsYpLtdqRltXPqcSMXJIvlBzKoQnSwPFkapxGqnZCVFfKRLUIGBLOwhchWCdJbRuXb' \\\n",
    "       'JrwTRNyAxDctszKjSnndaFkcBZmJZWjUeYMdevHhBJMBSShDqbjAuDGTTrSXZywYkmjCC' \\\n",
    "       'EUZShGofaFpuespaZWLFNIsOqsIRLexWqTXsOaScgnsUKsJxiihwsCdBViEQBHQaOnLfB' \\\n",
    "       'tQQShTYHFqrvpVFiiEFMcIFTrTkIBpGUflwTvAzMUtmSQQZGHlmQKJndiAXbIzVkGSeuT' \\\n",
    "       'SkyjIGsiWLALHUCsnQtiOtrbQOQunurZgHFiZjWtZCEXZCnZjLeMiFlxnPkqfJFbCfKCu' \\\n",
    "       'UJmGYJZPpRBFNLkqigxFkrRAppYRXeSCBxbGvqHmlsSZMWSVQyzenWoGxyGPvbnhWHuXB' \\\n",
    "       'qHFjvihuNGEEFsfnMXTfptvIOlhKhyYwxLnqOsBdGvnuyEZIheApQGOXWeXoLWiDQNJFa' \\\n",
    "       'XiUWgsKQrDOeZoNlZNRvHnLgCmysUeKnVJXPFIzvdDyleXylnKBfLCjLHntltignbQoiQ' \\\n",
    "       'zTYwZAiRwycdlHfyHNGmkNqSwXUrxGc'\n",
    "\n",
    "print('WITH RE')\n",
    "print('Test line simple:\\n', with_re(test_line))\n",
    "print('Test line:\\n', with_re(test_line))\n"
   ]
  }
 ],
 "metadata": {
  "kernelspec": {
   "display_name": "Python 2",
   "language": "python",
   "name": "python2"
  },
  "language_info": {
   "codemirror_mode": {
    "name": "ipython",
    "version": 2
   },
   "file_extension": ".py",
   "mimetype": "text/x-python",
   "name": "python",
   "nbconvert_exporter": "python",
   "pygments_lexer": "ipython2",
   "version": "2.7.6"
  }
 },
 "nbformat": 4,
 "nbformat_minor": 0
}
