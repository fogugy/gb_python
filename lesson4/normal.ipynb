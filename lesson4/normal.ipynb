{
 "cells": [
  {
   "cell_type": "code",
   "execution_count": 53,
   "metadata": {
    "collapsed": true
   },
   "outputs": [
    {
     "name": "stdout",
     "output_type": "stream",
     "text": [
      "WITH RE\nTest line short:\n ['mt', 'm', 'm']\nTest line:\n ['mt', 'm', 'mcq', 'iry', 'hh', 'xq', 'd', 'l', 's', 'kg', 'm', 's', 'v', 'fbmx', 'aysm', 'p', 'ujalp', 'z', 'fw', 'qwksr', 'eip', 'l', 'ecl', 'w', 'okt', 'lf', 'snawvj', 'hfgew', 'z', 'f', 't', 'yd', 'a', 'px', 'j', 'g', 'v', 'oumes', 'vj', 'os', 'fuh', 'u', 'w', 'l', 'dk', 'jf', 'qn', 'xoois', 'ux', 'hyj', 'a', 'wdo', 'nsll', 'ng', 'lmkp', 'lq', 'x', 'qqqg', 'd', 's', 'vqpp', 'fy', 'j', 'apz', 'rfinzzs', 't', 'clwbf', 'zytm', 'g', 'zxv', 'kd', 'a', 'fs', 'f', 'chg', 's', 'n', 'n', 'etek', 'u', 'lu', 'sdelz', 'g', 'zuwiimqk', 'py', 'z', 'y', 'k', 'kdy', 'v', 'jd', 'y', 'fk', 'a', 'bf', 'vz', 'r', 's', 'p', 'tdq', 'lt', 'qc', 'vl', 'z', 'o', 'n', 'w', 'kapx', 'qn', 'f', 'whch', 'd', 'b', 'u', 'b', 'rw', 'y', 'x', 'ctsz', 'j', 'nnda', 'kc', 'm', 'j', 'e', 'dev', 'h', 'h', 'qbj', 'u', 'r', 'yw', 'kmj', 'h', 'ofa', 'puespa', 's', 'qs', 'ex', 'q', 's', 'a', 'cgns', 's', 'xiihws', 'd', 'i', 'a', 'n', 'f', 't', 'h', 'qrvp', 'ii', 'c', 'r', 'k', 'p', 'flw', 'v', 'z', 'tm', 'lm', 'ndi', 'b', 'z', 'k', 'eu', 'kyj', 'si', 'sn', 'ti', 'trb', 'unur', 'g', 'i', 'j', 't', 'n', 'j', 'e', 'i', 'lxn', 'kqf', 'b', 'f', 'u', 'm', 'p', 'kqigx', 'kr', 'pp', 'e', 'xb', 'vq', 'mls', 'yzen', 'o', 'xy', 'vbnh', 'u', 'q', 'jvihu', 'sfn', 'fptv', 'lh', 'hy', 'wx', 'nq', 's', 'd', 'vnuy', 'he', 'p', 'e', 'o', 'i', 'a', 'i', 'gs', 'r', 'e', 'o', 'l', 'v', 'n', 'g', 'mys', 'e', 'n', 'zvd', 'yle', 'yln', 'f', 'j', 'ntltignb', 'oi', 'z', 'w', 'i', 'wycdl', 'fy', 'mk', 'q', 'w', 'rx', 'c']\n"
     ]
    }
   ],
   "source": [
    "__author__ = 'Зиновьев Ю.Г.'\n",
    "\n",
    "# Задание-1:\n",
    "# Вывести символы в нижнем регистре, которые находятся вокруг\n",
    "# 1 или более символов в верхнем регистре.\n",
    "# Т.е. из строки \"mtMmEZUOmcq\" нужно получить ['mt', 'm', 'mcq']\n",
    "# Решить задачу двумя способами: с помощью re и без.\n",
    "\n",
    "import re\n",
    "\n",
    "def get_pos(str, pattern):\n",
    "    rgx = re.compile(pattern)\n",
    "    m = rgx.search(str)\n",
    "    if not m:\n",
    "        return -1\n",
    "    return m.start(0), m.end(0), m.string[m.start(0):m.end(0)]\n",
    "\n",
    "def with_re(str):\n",
    "    pattern = '(([a-z]+)[A-Z]+[a-z]+)'\n",
    "    rgx = re.compile(pattern)\n",
    "    pos = 0\n",
    "    result = []\n",
    "    while len(str) - 2 > pos + 1:\n",
    "        m = rgx.search(str, pos)\n",
    "        if not m:\n",
    "            break\n",
    "        start = m.start(0)\n",
    "        end = m.end(0)\n",
    "        match_str = m.string[start:end]\n",
    "        first_pos, first_end, first_match = get_pos(match_str, '^[a-z]+')\n",
    "        last_start, last_end, last_match = get_pos(match_str, '[a-z]+$')\n",
    "        pos = end - len(last_match)\n",
    "        if len(result) > 0:\n",
    "            result.pop()\n",
    "        result.append(first_match)\n",
    "        result.append(last_match)\n",
    "    return result\n",
    "\n",
    "test_line = 'mtMmEZUOmcq'\n",
    "line = 'mtMmEZUOmcqWiryMQhhTxqKdSTKCYEJlEZCsGAMkgAYEOmHBSQsSUHKvSfbmxULaysmNO' \\\n",
    "       'GIPHpEMujalpPLNzRWXfwHQqwksrFeipEUlTLeclMwAoktKlfUBJHPsnawvjPhfgewVzK' \\\n",
    "       'TUfSYtBydXaVIpxWjNKgXANvIoumesCSSvjEGRJosUfuhRRDUuTQwLlJJJDdkVjfSAHqn' \\\n",
    "       'LxooisBDWuxIhyjJaXDYwdoVPnsllMngNlmkpYOlqXEFIxPqqqgAWdJsOvqppOfyIVjXa' \\\n",
    "       'pzGOrfinzzsNMtBIOclwbfRzytmDgEFUzxvZGkdOaQYLVBfsGSAfJMchgBWAsGnBnWete' \\\n",
    "       'kUTVuPluKRMQsdelzBgLzuwiimqkFKpyQRzOUyHkXRkdyIEBvTjdByCfkVIAQaAbfCvzQ' \\\n",
    "       'WrMMsYpLtdqRltXPqcSMXJIvlBzKoQnSwPFkapxGqnZCVFfKRLUIGBLOwhchWCdJbRuXb' \\\n",
    "       'JrwTRNyAxDctszKjSnndaFkcBZmJZWjUeYMdevHhBJMBSShDqbjAuDGTTrSXZywYkmjCC' \\\n",
    "       'EUZShGofaFpuespaZWLFNIsOqsIRLexWqTXsOaScgnsUKsJxiihwsCdBViEQBHQaOnLfB' \\\n",
    "       'tQQShTYHFqrvpVFiiEFMcIFTrTkIBpGUflwTvAzMUtmSQQZGHlmQKJndiAXbIzVkGSeuT' \\\n",
    "       'SkyjIGsiWLALHUCsnQtiOtrbQOQunurZgHFiZjWtZCEXZCnZjLeMiFlxnPkqfJFbCfKCu' \\\n",
    "       'UJmGYJZPpRBFNLkqigxFkrRAppYRXeSCBxbGvqHmlsSZMWSVQyzenWoGxyGPvbnhWHuXB' \\\n",
    "       'qHFjvihuNGEEFsfnMXTfptvIOlhKhyYwxLnqOsBdGvnuyEZIheApQGOXWeXoLWiDQNJFa' \\\n",
    "       'XiUWgsKQrDOeZoNlZNRvHnLgCmysUeKnVJXPFIzvdDyleXylnKBfLCjLHntltignbQoiQ' \\\n",
    "       'zTYwZAiRwycdlHfyHNGmkNqSwXUrxGc'\n",
    "\n",
    "print('WITH RE')\n",
    "print('Test line short:\\n', with_re(test_line))\n",
    "print('Test line:\\n', with_re(line))\n"
   ]
  },
  {
   "cell_type": "code",
   "execution_count": 45,
   "metadata": {},
   "outputs": [
    {
     "name": "stdout",
     "output_type": "stream",
     "text": [
      "['AY', 'NOGI', 'P']\n['AY', 'NOGI', 'P']\n"
     ]
    }
   ],
   "source": [
    "# Задание-2:\n",
    "# Вывести символы в верхнем регистре, слева от которых находятся\n",
    "# два символа в нижнем регистре, а справа - два символа в верхнем регистре.\n",
    "# Т.е. из строки \n",
    "# \"GAMkgAYEOmHBSQsSUHKvSfbmxULaysmNOGIPHpEMujalpPLNzRWXfwHQqwksrFeipEUlTLec\"\n",
    "# нужно получить список строк: ['AY', 'NOGI', 'P']\n",
    "# Решить задачу двумя способами: с помощью re и без.\n",
    "\n",
    "import re\n",
    "\n",
    "def with_re(str):\n",
    "    pattern = '[a-z]{2}([A-Z]+)[A-Z]{2}'\n",
    "    rgx = re.compile(pattern)\n",
    "    return rgx.findall(str)\n",
    "\n",
    "def without_re(str):\n",
    "    upper_indexes = []\n",
    "    lower_indexes = []\n",
    "    isUpper = None\n",
    "\n",
    "    for i, char in enumerate(str):\n",
    "        if char.isupper() != isUpper:\n",
    "            isUpper = char.isupper()\n",
    "            if isUpper:\n",
    "                upper_indexes.append(i)\n",
    "            else:\n",
    "                lower_indexes.append(i)\n",
    "\n",
    "    if str[1].isupper():\n",
    "        upper_indexes = upper_indexes[1:]\n",
    "\n",
    "    if str[-1].isupper():\n",
    "        lower_indexes.append(len(str))\n",
    "\n",
    "    pairs = []\n",
    "    for i in range(len(upper_indexes)):\n",
    "        if upper_indexes[i] - lower_indexes[i] < 2:\n",
    "            continue\n",
    "        pairs.append((upper_indexes[i], lower_indexes[i + 1]))\n",
    "\n",
    "    pairs = list(filter(lambda x: x[1] - x[0] >= 3, pairs))\n",
    "    return [str[x[0]:x[1] - 2] for x in pairs]\n",
    "\n",
    "\n",
    "test_line = 'GAMkgAYEOmHBSQsSUHKvSfbmxULaysmNOGIPHpEMujalpPLNzRWXfwHQqwksrFeipEUlTLec'\n",
    "\n",
    "print(with_re(test_line))\n",
    "print(without_re(test_line))\n"
   ]
  },
  {
   "cell_type": "code",
   "execution_count": 48,
   "metadata": {
    "collapsed": false
   },
   "outputs": [
    {
     "data": {
      "text/plain": [
       "'9999'"
      ]
     },
     "execution_count": 48,
     "metadata": {},
     "output_type": "execute_result"
    }
   ],
   "source": [
    "# Задание-3:\n",
    "# Напишите скрипт, заполняющий указанный файл (самостоятельно задайте имя файла)\n",
    "# произвольными целыми цифрами, в результате в файле должно быть\n",
    "# 2500-значное произвольное число.\n",
    "# Найдите и выведите самую длинную последовательность одинаковых цифр\n",
    "# в вышезаполненном файле.\n",
    "\n",
    "import random as rnd\n",
    "import re\n",
    "import os.path as path\n",
    "\n",
    "DATA_DIR = path.join(path.abspath(''), 'lesson4', 'data')\n",
    "file_name = 'numbers.txt'\n",
    "\n",
    "\n",
    "def fill_file(numbers):\n",
    "    with open(path.join(DATA_DIR, file_name), 'w', encoding=\"utf8\") as file_dst:\n",
    "        file_dst.write(''.join(map(str, numbers)))\n",
    "\n",
    "\n",
    "def get_numbers(count, min=0, max=9):\n",
    "    return [rnd.randint(min, max) for x in range(count)]\n",
    "\n",
    "\n",
    "def get_longest_digit_in_file():\n",
    "    pattern = re.compile('|'.join([f'[{x}]+' for x in range(10)]))\n",
    "    longest = ''\n",
    "    with open(path.join(DATA_DIR, file_name), 'r', encoding=\"utf8\") as file_src:\n",
    "        data = file_src.read()\n",
    "        for m in pattern.findall(data):\n",
    "            if len(m) > len(longest):\n",
    "                longest = m\n",
    "    return longest\n",
    "\n",
    "\n",
    "fill_file(get_numbers(2500))\n",
    "get_longest_digit_in_file()\n"
   ]
  }
 ],
 "metadata": {
  "kernelspec": {
   "display_name": "Python 2",
   "language": "python",
   "name": "python2"
  },
  "language_info": {
   "codemirror_mode": {
    "name": "ipython",
    "version": 2
   },
   "file_extension": ".py",
   "mimetype": "text/x-python",
   "name": "python",
   "nbconvert_exporter": "python",
   "pygments_lexer": "ipython2",
   "version": "2.7.6"
  }
 },
 "nbformat": 4,
 "nbformat_minor": 0
}
