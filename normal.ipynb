{
 "cells": [
  {
   "cell_type": "code",
   "execution_count": null,
   "metadata": {
    "collapsed": true
   },
   "outputs": [],
   "source": [
    "__author__ = 'Зиновьев Ю.Г.'\n",
    "\n",
    "# Задача-1: Дано произвольное целое число, вывести самую большую цифру этого числа.\n",
    "# Например, дается x = 58375.\n",
    "# Нужно вывести максимальную цифру в данном числе, т.е. 8.\n",
    "# Подразумевается, что мы не знаем это число заранее.\n",
    "# Число приходит в виде целого беззнакового.\n",
    "# Подсказки:\n",
    "# * постарайтесь решить задачу с применением арифметики и цикла while;\n",
    "# * при желании и понимании решите задачу с применением цикла for.\n",
    "\n",
    "inputStr = input(\"Введите целое число: \")\n",
    "maxInt = 0\n",
    "for i in range(len(inputStr)):\n",
    "    maxInt = max(maxInt, int(inputStr[i]))\n",
    "print(f'С применением for: max = {maxInt}')\n",
    "\n",
    "maxInt = 0\n",
    "inputInt = int(inputStr)\n",
    "while inputInt > 0:\n",
    "    maxInt = max(maxInt, inputInt % 10)\n",
    "    inputInt //= 10\n",
    "print(f'С применением while: max = {maxInt}')"
   ]
  },
  {
   "cell_type": "code",
   "execution_count": null,
   "metadata": {},
   "outputs": [],
   "source": [
    "# Задача-2: Исходные значения двух переменных запросить у пользователя.\n",
    "# Поменять значения переменных местами. Вывести новые значения на экран.\n",
    "# Решите задачу, используя только две переменные.\n",
    "# Подсказки:\n",
    "# * постарайтесь сделать решение через действия над числами;\n",
    "# * при желании и понимании воспользуйтесь синтаксисом кортежей Python.\n",
    "\n",
    "inputStr = input(\"Введите 2 целых числа через пробел: \")\n",
    "a, b = map(int, inputStr.split())\n",
    "print(f'Входные значения: a={a}, b={b}')\n",
    "a = a + b\n",
    "b = a - b\n",
    "a = a - b\n",
    "print(f'Выходные значения: a={a}, b={b}')\n"
   ]
  }
 ],
 "metadata": {
  "kernelspec": {
   "display_name": "Python 2",
   "language": "python",
   "name": "python2"
  },
  "language_info": {
   "codemirror_mode": {
    "name": "ipython",
    "version": 2
   },
   "file_extension": ".py",
   "mimetype": "text/x-python",
   "name": "python",
   "nbconvert_exporter": "python",
   "pygments_lexer": "ipython2",
   "version": "2.7.6"
  }
 },
 "nbformat": 4,
 "nbformat_minor": 0
}
